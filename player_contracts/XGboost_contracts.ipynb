{
 "cells": [
  {
   "cell_type": "code",
   "execution_count": null,
   "metadata": {},
   "outputs": [
    {
     "name": "stdout",
     "output_type": "stream",
     "text": [
      "Dataset:\n",
      "    rec   yds  td  succ  avg_sal\n",
      "0   103  1533  10  57.1     35.0\n",
      "1   106  1456   7  56.3     32.0\n",
      "2   135  1749  12  63.5     34.0\n",
      "3   119  1799  13  57.9     30.0\n",
      "4    66  1114   8  51.3     33.0\n",
      "5   119  1515  12  61.3     30.0\n",
      "6    50   770   6  49.4     11.0\n",
      "7    67   804   6  54.7     11.0\n",
      "8   109  1152   4  51.9     23.0\n",
      "9    85  1063   8  46.8     22.0\n",
      "10   80  1297   8  61.5     24.0\n",
      "11   76  1016   8  48.5     23.0\n",
      "12   67   972   6  52.0     17.5\n",
      "13   72  1112   6  49.2     15.0\n",
      "14   56   610   5  60.0      5.0\n",
      "15   77   982   5  60.2     18.0\n",
      "16   72  1014   4  58.7     28.0\n"
     ]
    }
   ],
   "source": [
    "import pandas as pd\n",
    "import numpy as np\n",
    "\n",
    "# Simulated dataset\n",
    "data = {\n",
    "    \"Yards\": [1200, 800, 1500, 600, 900, 1100, 1400, 700],\n",
    "    \"TDs\": [10, 6, 12, 4, 7, 9, 11, 5],\n",
    "    \"Age\": [25, 28, 26, 30, 27, 24, 29, 31],\n",
    "    \"Receptions\": [80, 50, 90, 40, 60, 75, 85, 45],\n",
    "    \"Contract_Value_Millions\": [25.0, 8.0, 28.0, 5.0, 10.0, 18.0, 20.0, 6.0],\n",
    "}\n",
    "\n",
    "# Create a DataFrame\n",
    "df = pd.DataFrame(data)\n",
    "data = {\n",
    "    # \"name\": [ \"Justin Jefferson\", \"A.J. Brown\", \"CeeDee Lamb\", \"Tyreek Hill\", \"D.K. Metcalf\", \"Amon-Ra St.Brown\", \"Darius Slayton\", \"Jakobi Meyers\", \"Michael Pittman Jr.\", \"Davante Adams\", \"Nico Collins\", \"Calvin Ridley\", \"Jerry Jeudy\", \"Courtland Sutton\", \"DeAndre Hopkins\", \"Christian Kirk\", \"Jaylen Waddle\", ],\n",
    "    # \"pos\": [ \"wr1\", \"wr1\", \"wr1\", \"wr1\", \"wr1\", \"wr1\", \"wr1\", \"wr1\", \"wr1\", \"wr1\", \"wr1\", \"wr1\", \"wr1\", \"wr1\", \"wr2\", \"wr2\", \"wr2\", ],\n",
    "    # \"season\": [ 2024, 2023, 2023, 2023, 2023, 2023, 2023, 2022, 2023, 2024, 2023, 2023, 2022, 2019, 2024, 2021, 2023, ],\n",
    "    # \"games\": [17, 17, 17, 16, 16, 16, 17, 14, 16, 14, 15, 17, 15, 16, 16, 17, 14],\n",
    "    # \"tgt\": [ 154, 158, 152, 171, 119, 164, 79, 96, 156, 141, 109, 136, 100, 124, 80, 103, 104, ],\n",
    "    \"rec\": [103, 106, 135, 119, 66, 119, 50, 67, 109, 85, 80, 76, 67, 72, 56, 77, 72],\n",
    "    \"yds\": [\n",
    "        1533,\n",
    "        1456,\n",
    "        1749,\n",
    "        1799,\n",
    "        1114,\n",
    "        1515,\n",
    "        770,\n",
    "        804,\n",
    "        1152,\n",
    "        1063,\n",
    "        1297,\n",
    "        1016,\n",
    "        972,\n",
    "        1112,\n",
    "        610,\n",
    "        982,\n",
    "        1014,\n",
    "    ],\n",
    "    # \"y-r\": [ 14.9, 13.7, 13.0, 15.1, 16.9, 12.7, 15.4, 12.0, 10.6, 12.5, 16.2, 13.4, 14.5, 15.4, 10.9, 12.8, 12.8, ],\n",
    "    \"td\": [10, 7, 12, 13, 8, 12, 6, 6, 4, 8, 8, 8, 6, 6, 5, 5, 4],\n",
    "    # \"1d\": [62, 70, 80, 83, 52, 75, 29, 38, 53, 49, 53, 49, 41, 50, 35, 44, 47],\n",
    "    \"succ\": [\n",
    "        57.1,\n",
    "        56.3,\n",
    "        63.5,\n",
    "        57.9,\n",
    "        51.3,\n",
    "        61.3,\n",
    "        49.4,\n",
    "        54.7,\n",
    "        51.9,\n",
    "        46.8,\n",
    "        61.5,\n",
    "        48.5,\n",
    "        52,\n",
    "        49.2,\n",
    "        60,\n",
    "        60.2,\n",
    "        58.7,\n",
    "    ],\n",
    "    \"avg_sal\": [35, 32, 34, 30, 33, 30, 11, 11, 23, 22, 24, 23, 17.5, 15, 5, 18, 28],\n",
    "}\n"
   ]
  },
  {
   "cell_type": "code",
   "execution_count": null,
   "metadata": {},
   "outputs": [],
   "source": [
    "# df = pd.DataFrame(data)\n",
    "df = pd.read_csv('./wideout_3yr_avg.csv')\n",
    "# Features (X) and target (y)\n",
    "X = df[[\"yds\", \"td\", \"Y/Tgt\", \"Ctch%\"]]\n",
    "y = df[\"avg_sal\"]\n",
    "\n",
    "# Display the data to check\n",
    "print(\"Dataset:\")\n",
    "print(df)"
   ]
  },
  {
   "cell_type": "markdown",
   "metadata": {},
   "source": [
    "# Split the Data"
   ]
  },
  {
   "cell_type": "code",
   "execution_count": 9,
   "metadata": {},
   "outputs": [
    {
     "name": "stdout",
     "output_type": "stream",
     "text": [
      "\n",
      "Training set size: (13, 4)\n",
      "Testing set size: (4, 4)\n"
     ]
    }
   ],
   "source": [
    "from sklearn.model_selection import train_test_split\n",
    "\n",
    "# Split data: 80% train, 20% test\n",
    "X_train, X_test, y_train, y_test = train_test_split(X,y, test_size=0.2, random_state=42)\n",
    "\n",
    "print(\"\\nTraining set size:\", X_train.shape)\n",
    "print(\"Testing set size:\", X_test.shape)"
   ]
  },
  {
   "cell_type": "markdown",
   "metadata": {},
   "source": [
    "# Train the XGBoost Model"
   ]
  },
  {
   "cell_type": "code",
   "execution_count": 10,
   "metadata": {},
   "outputs": [
    {
     "name": "stdout",
     "output_type": "stream",
     "text": [
      "\n",
      "Model training complete.\n"
     ]
    }
   ],
   "source": [
    "import xgboost as xgb\n",
    "\n",
    "# Initialize the XGBoost regressor\n",
    "model = xgb.XGBRegressor(\n",
    "    objective = 'reg:squarederror', # Minimize squared error for regression\n",
    "    n_estimators=100,\n",
    "    max_depth=3,\n",
    "    learning_rate=0.1,\n",
    "    random_state=42\n",
    "    )\n",
    "\n",
    "# Train the model\n",
    "model.fit(X_train, y_train)\n",
    "\n",
    "print(\"\\nModel training complete.\")"
   ]
  },
  {
   "cell_type": "markdown",
   "metadata": {},
   "source": [
    "# Make Predictions and Evaluate"
   ]
  },
  {
   "cell_type": "code",
   "execution_count": null,
   "metadata": {},
   "outputs": [
    {
     "name": "stdout",
     "output_type": "stream",
     "text": [
      "\n",
      "Test Predictions:\n",
      "Actual: 35.0M, Predicted: 26.6M\n",
      "Actual: 32.0M, Predicted: 24.3M\n",
      "Actual: 30.0M, Predicted: 24.6M\n",
      "Actual: 18.0M, Predicted: 16.7M\n",
      "\n",
      "Mean Squared Error: 40.00\n",
      "RMSE: 6.32\n",
      "R² Score: 0.04\n"
     ]
    }
   ],
   "source": [
    "from sklearn.metrics import mean_squared_error, r2_score\n",
    "\n",
    "# Predict on test set\n",
    "y_pred = model.predict(X_test)\n",
    "\n",
    "# Evaluate\n",
    "mse = mean_squared_error(y_test, y_pred)\n",
    "rmse = np.sqrt(mse)\n",
    "r2 = r2_score(y_test, y_pred)\n",
    "\n",
    "\n",
    "print(\"\\nTest Predictions:\")\n",
    "for actual, pred in zip(y_test, y_pred):\n",
    "    print(f\"Actual: {actual:.1f}M, Predicted: {pred:.1f}M\")\n",
    "\n",
    "print(f\"\\nMean Squared Error: {mse:.2f}\")\n",
    "print(f\"RMSE: {rmse:.2f}\")\n",
    "print(f\"R² Score: {r2:.2f}\")"
   ]
  },
  {
   "cell_type": "markdown",
   "metadata": {},
   "source": [
    "# Feature Importance"
   ]
  },
  {
   "cell_type": "code",
   "execution_count": 6,
   "metadata": {},
   "outputs": [
    {
     "data": {
      "image/png": "[encoded data removed]",
      "text/plain": [
       "<Figure size 640x480 with 1 Axes>"
      ]
     },
     "metadata": {},
     "output_type": "display_data"
    }
   ],
   "source": [
    "import matplotlib.pyplot as plt\n",
    "\n",
    "# Plot feature importance\n",
    "xgb.plot_importance(model)\n",
    "plt.show()"
   ]
  },
  {
   "cell_type": "markdown",
   "metadata": {},
   "source": [
    "# Predict a New Contract"
   ]
  },
  {
   "cell_type": "code",
   "execution_count": 16,
   "metadata": {},
   "outputs": [
    {
     "name": "stdout",
     "output_type": "stream",
     "text": [
      "\n",
      "Predicted contract for 874 yards, 3 TDs, 29 years old, 61 Succ: $22.9M\n"
     ]
    }
   ],
   "source": [
    "# New WR data: [Yards, TDs, Age, Succ%]\n",
    "new_player = np.array([[1000, 3, 29,61]])\n",
    "\n",
    "# Predict contract value\n",
    "predicted_contract = model.predict(new_player)\n",
    "print(\n",
    "    f\"\\nPredicted contract for 874 yards, 3 TDs, 29 years old, 61 Succ: ${predicted_contract[0]:.1f}M\"\n",
    ")"
   ]
  },
  {
   "cell_type": "code",
   "execution_count": null,
   "metadata": {},
   "outputs": [],
   "source": []
  }
 ],
 "metadata": {
  "kernelspec": {
   "display_name": "ml_env",
   "language": "python",
   "name": "python3"
  },
  "language_info": {
   "codemirror_mode": {
    "name": "ipython",
    "version": 3
   },
   "file_extension": ".py",
   "mimetype": "text/x-python",
   "name": "python",
   "nbconvert_exporter": "python",
   "pygments_lexer": "ipython3",
   "version": "3.9.21"
  }
 },
 "nbformat": 4,
 "nbformat_minor": 2
}
