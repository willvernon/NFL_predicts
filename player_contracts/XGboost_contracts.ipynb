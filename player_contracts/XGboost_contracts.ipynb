{
 "cells": [
  {
   "cell_type": "code",
   "execution_count": 2,
   "metadata": {},
   "outputs": [],
   "source": [
    "import pandas as pd\n",
    "import numpy as np\n"
   ]
  },
  {
   "cell_type": "code",
   "execution_count": null,
   "metadata": {},
   "outputs": [],
   "source": [
    "\n",
    "# Simulated dataset\n",
    "data = {\n",
    "    \"Yards\": [1200, 800, 1500, 600, 900, 1100, 1400, 700],\n",
    "    \"TDs\": [10, 6, 12, 4, 7, 9, 11, 5],\n",
    "    \"Age\": [25, 28, 26, 30, 27, 24, 29, 31],\n",
    "    \"Receptions\": [80, 50, 90, 40, 60, 75, 85, 45],\n",
    "    \"Contract_Value_Millions\": [25.0, 8.0, 28.0, 5.0, 10.0, 18.0, 20.0, 6.0],\n",
    "}\n",
    "\n",
    "# Create a DataFrame\n",
    "df = pd.DataFrame(data)\n",
    "data = {\n",
    "    # \"name\": [ \"Justin Jefferson\", \"A.J. Brown\", \"CeeDee Lamb\", \"Tyreek Hill\", \"D.K. Metcalf\", \"Amon-Ra St.Brown\", \"Darius Slayton\", \"Jakobi Meyers\", \"Michael Pittman Jr.\", \"Davante Adams\", \"Nico Collins\", \"Calvin Ridley\", \"Jerry Jeudy\", \"Courtland Sutton\", \"DeAndre Hopkins\", \"Christian Kirk\", \"Jaylen Waddle\", ],\n",
    "    # \"pos\": [ \"wr1\", \"wr1\", \"wr1\", \"wr1\", \"wr1\", \"wr1\", \"wr1\", \"wr1\", \"wr1\", \"wr1\", \"wr1\", \"wr1\", \"wr1\", \"wr1\", \"wr2\", \"wr2\", \"wr2\", ],\n",
    "    # \"season\": [ 2024, 2023, 2023, 2023, 2023, 2023, 2023, 2022, 2023, 2024, 2023, 2023, 2022, 2019, 2024, 2021, 2023, ],\n",
    "    # \"games\": [17, 17, 17, 16, 16, 16, 17, 14, 16, 14, 15, 17, 15, 16, 16, 17, 14],\n",
    "    # \"tgt\": [ 154, 158, 152, 171, 119, 164, 79, 96, 156, 141, 109, 136, 100, 124, 80, 103, 104, ],\n",
    "    \"rec\": [103, 106, 135, 119, 66, 119, 50, 67, 109, 85, 80, 76, 67, 72, 56, 77, 72],\n",
    "    \"yds\": [\n",
    "        1533,\n",
    "        1456,\n",
    "        1749,\n",
    "        1799,\n",
    "        1114,\n",
    "        1515,\n",
    "        770,\n",
    "        804,\n",
    "        1152,\n",
    "        1063,\n",
    "        1297,\n",
    "        1016,\n",
    "        972,\n",
    "        1112,\n",
    "        610,\n",
    "        982,\n",
    "        1014,\n",
    "    ],\n",
    "    # \"y-r\": [ 14.9, 13.7, 13.0, 15.1, 16.9, 12.7, 15.4, 12.0, 10.6, 12.5, 16.2, 13.4, 14.5, 15.4, 10.9, 12.8, 12.8, ],\n",
    "    \"td\": [10, 7, 12, 13, 8, 12, 6, 6, 4, 8, 8, 8, 6, 6, 5, 5, 4],\n",
    "    # \"1d\": [62, 70, 80, 83, 52, 75, 29, 38, 53, 49, 53, 49, 41, 50, 35, 44, 47],\n",
    "    \"succ\": [\n",
    "        57.1,\n",
    "        56.3,\n",
    "        63.5,\n",
    "        57.9,\n",
    "        51.3,\n",
    "        61.3,\n",
    "        49.4,\n",
    "        54.7,\n",
    "        51.9,\n",
    "        46.8,\n",
    "        61.5,\n",
    "        48.5,\n",
    "        52,\n",
    "        49.2,\n",
    "        60,\n",
    "        60.2,\n",
    "        58.7,\n",
    "    ],\n",
    "    \"avg_sal\": [35, 32, 34, 30, 33, 30, 11, 11, 23, 22, 24, 23, 17.5, 15, 5, 18, 28],\n",
    "}\n"
   ]
  },
  {
   "cell_type": "code",
   "execution_count": 6,
   "metadata": {},
   "outputs": [
    {
     "name": "stdout",
     "output_type": "stream",
     "text": [
      "Dataset:\n",
      "    Unnamed: 0             Player  Avg_Sal      G     GS     Tgt     Rec  \\\n",
      "0            0         A.J. Brown   32.000  15.67  15.33  133.33   87.00   \n",
      "1            1       Adam Thielen    8.000  14.67  14.67  102.00   73.67   \n",
      "2            2       Allen Lazard   11.000  13.50  12.50   80.00   48.50   \n",
      "3            3       Amari Cooper   20.000  15.33  14.00  115.00   64.67   \n",
      "4            4  Amon-Ra St. Brown   30.000  16.33  16.33  150.33  113.33   \n",
      "..         ...                ...      ...    ...    ...     ...     ...   \n",
      "74          74     Terry McLaurin   22.788  17.00  17.00  123.00   79.33   \n",
      "75          75        Tutu Atwell   10.000  16.50   9.50   64.50   40.50   \n",
      "76          76         Tyler Boyd    2.400  16.50  13.50   90.00   62.50   \n",
      "77          77      Tyler Lockett   14.830  16.67  15.67  104.33   70.67   \n",
      "78          78        Tyreek Hill   30.000  16.67  16.67  154.67  106.33   \n",
      "\n",
      "        Yds    Y/R    TD     1D  Succ%    Lng   R/G    Y/G  Ctch%  Y/Tgt  \\\n",
      "0   1343.67  15.60  8.33  60.00  56.97  68.00  5.53  85.53  65.63  10.20   \n",
      "1    781.67  10.93  5.00  43.00  55.33  36.00  5.00  54.40  72.67   8.00   \n",
      "2    659.00  13.70  6.00  37.00  56.65  49.50  3.55  48.35  60.85   8.35   \n",
      "3    985.67  14.90  6.00  45.33  49.50  53.33  4.17  63.53  55.73   8.33   \n",
      "4   1313.00  11.57  9.33  72.00  64.70  61.67  6.93  80.53  75.60   8.73   \n",
      "..      ...    ...   ...    ...    ...    ...   ...    ...    ...    ...   \n",
      "74  1096.33  13.87  7.33  53.00  54.10  62.00  4.63  64.50  64.70   8.97   \n",
      "75   522.50  12.90  1.50  27.50  53.75  47.00  2.45  31.65  62.95   8.15   \n",
      "76   714.50  11.55  3.50  35.00  54.55  62.00  3.75  43.40  69.55   8.05   \n",
      "77   842.33  11.93  5.33  44.33  58.57  38.00  4.27  50.83  67.60   8.07   \n",
      "78  1489.33  13.77  8.67  71.33  55.47  74.00  6.40  89.80  68.50   9.47   \n",
      "\n",
      "     Fmb  Age  \n",
      "0   1.33   27  \n",
      "1   0.67   34  \n",
      "2   0.00   29  \n",
      "3   0.67   30  \n",
      "4   0.67   25  \n",
      "..   ...  ...  \n",
      "74  0.67   29  \n",
      "75  0.00   25  \n",
      "76  0.00   29  \n",
      "77  0.67   32  \n",
      "78  0.67   30  \n",
      "\n",
      "[79 rows x 19 columns]\n"
     ]
    }
   ],
   "source": [
    "# df = pd.DataFrame(data)\n",
    "df = pd.read_csv('./data/wideout_3yr_avg.csv')\n",
    "# Features (X) and target (y)\n",
    "X = df[[\"Age\",\"Yds\", \"TD\", \"Y/Tgt\", \"Ctch%\"]]\n",
    "y = df[\"Avg_Sal\"]\n",
    "\n",
    "# Display the data to check\n",
    "print(\"Dataset:\")\n",
    "print(df)"
   ]
  },
  {
   "cell_type": "markdown",
   "metadata": {},
   "source": [
    "# Split the Data"
   ]
  },
  {
   "cell_type": "code",
   "execution_count": 7,
   "metadata": {},
   "outputs": [
    {
     "name": "stdout",
     "output_type": "stream",
     "text": [
      "\n",
      "Training set size: (63, 5)\n",
      "Testing set size: (16, 5)\n"
     ]
    }
   ],
   "source": [
    "from sklearn.model_selection import train_test_split\n",
    "\n",
    "# Split data: 80% train, 20% test\n",
    "X_train, X_test, y_train, y_test = train_test_split(X,y, test_size=0.2, random_state=42)\n",
    "\n",
    "print(\"\\nTraining set size:\", X_train.shape)\n",
    "print(\"Testing set size:\", X_test.shape)"
   ]
  },
  {
   "cell_type": "markdown",
   "metadata": {},
   "source": [
    "# Train the XGBoost Model"
   ]
  },
  {
   "cell_type": "code",
   "execution_count": 8,
   "metadata": {},
   "outputs": [
    {
     "name": "stdout",
     "output_type": "stream",
     "text": [
      "\n",
      "Model training complete.\n"
     ]
    }
   ],
   "source": [
    "import xgboost as xgb\n",
    "\n",
    "# Initialize the XGBoost regressor\n",
    "model = xgb.XGBRegressor(\n",
    "    objective = 'reg:squarederror', # Minimize squared error for regression\n",
    "    n_estimators=100,\n",
    "    max_depth=3,\n",
    "    learning_rate=0.1,\n",
    "    random_state=42\n",
    "    )\n",
    "\n",
    "# Train the model\n",
    "model.fit(X_train, y_train)\n",
    "\n",
    "print(\"\\nModel training complete.\")"
   ]
  },
  {
   "cell_type": "markdown",
   "metadata": {},
   "source": [
    "# Make Predictions and Evaluate"
   ]
  },
  {
   "cell_type": "code",
   "execution_count": 9,
   "metadata": {},
   "outputs": [
    {
     "name": "stdout",
     "output_type": "stream",
     "text": [
      "\n",
      "Test Predictions:\n",
      "Actual: 13.0M, Predicted: 13.4M\n",
      "Actual: 32.0M, Predicted: 30.9M\n",
      "Actual: 22.0M, Predicted: 23.5M\n",
      "Actual: 3.3M, Predicted: 2.0M\n",
      "Actual: 33.0M, Predicted: 22.9M\n",
      "Actual: 18.4M, Predicted: 7.8M\n",
      "Actual: 22.0M, Predicted: 4.5M\n",
      "Actual: 1.2M, Predicted: 2.8M\n",
      "Actual: 30.0M, Predicted: 31.1M\n",
      "Actual: 18.0M, Predicted: 21.4M\n",
      "Actual: 13.3M, Predicted: 3.1M\n",
      "Actual: 21.8M, Predicted: 29.9M\n",
      "Actual: 6.4M, Predicted: 24.5M\n",
      "Actual: 0.8M, Predicted: 3.3M\n",
      "Actual: 1.2M, Predicted: 2.0M\n",
      "Actual: 4.0M, Predicted: 4.1M\n",
      "\n",
      "Mean Squared Error: 65.04\n",
      "RMSE: 8.06\n",
      "R² Score: 0.46\n"
     ]
    }
   ],
   "source": [
    "from sklearn.metrics import mean_squared_error, r2_score\n",
    "\n",
    "# Predict on test set\n",
    "y_pred = model.predict(X_test)\n",
    "\n",
    "# Evaluate\n",
    "mse = mean_squared_error(y_test, y_pred)\n",
    "rmse = np.sqrt(mse)\n",
    "r2 = r2_score(y_test, y_pred)\n",
    "\n",
    "\n",
    "print(\"\\nTest Predictions:\")\n",
    "for actual, pred in zip(y_test, y_pred):\n",
    "    print(f\"Actual: {actual:.1f}M, Predicted: {pred:.1f}M\")\n",
    "\n",
    "print(f\"\\nMean Squared Error: {mse:.2f}\")\n",
    "print(f\"RMSE: {rmse:.2f}\")\n",
    "print(f\"R² Score: {r2:.2f}\")"
   ]
  },
  {
   "cell_type": "markdown",
   "metadata": {},
   "source": [
    "# Feature Importance"
   ]
  },
  {
   "cell_type": "code",
   "execution_count": 10,
   "metadata": {},
   "outputs": [
    {
     "data": {
      "image/png": "[encoded data removed]",
      "text/plain": [
       "<Figure size 640x480 with 1 Axes>"
      ]
     },
     "metadata": {},
     "output_type": "display_data"
    }
   ],
   "source": [
    "import matplotlib.pyplot as plt\n",
    "\n",
    "# Plot feature importance\n",
    "xgb.plot_importance(model)\n",
    "plt.show()"
   ]
  },
  {
   "cell_type": "markdown",
   "metadata": {},
   "source": [
    "# Predict a New Contract"
   ]
  },
  {
   "cell_type": "code",
   "execution_count": 16,
   "metadata": {},
   "outputs": [
    {
     "name": "stdout",
     "output_type": "stream",
     "text": [
      "\n",
      "Predicted contract for 874 yards, 3 TDs, 29 years old, 61 Succ: $22.9M\n"
     ]
    }
   ],
   "source": [
    "# New WR data: [Yards, TDs, Age, Succ%]\n",
    "new_player = np.array([[1000, 3, 29,61]])\n",
    "\n",
    "# Predict contract value\n",
    "predicted_contract = model.predict(new_player)\n",
    "print(\n",
    "    f\"\\nPredicted contract for 874 yards, 3 TDs, 29 years old, 61 Succ: ${predicted_contract[0]:.1f}M\"\n",
    ")"
   ]
  },
  {
   "cell_type": "code",
   "execution_count": null,
   "metadata": {},
   "outputs": [],
   "source": []
  }
 ],
 "metadata": {
  "kernelspec": {
   "display_name": "ml_env",
   "language": "python",
   "name": "python3"
  },
  "language_info": {
   "codemirror_mode": {
    "name": "ipython",
    "version": 3
   },
   "file_extension": ".py",
   "mimetype": "text/x-python",
   "name": "python",
   "nbconvert_exporter": "python",
   "pygments_lexer": "ipython3",
   "version": "3.9.21"
  }
 },
 "nbformat": 4,
 "nbformat_minor": 2
}
