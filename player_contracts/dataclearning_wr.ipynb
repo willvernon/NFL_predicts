{
 "cells": [
  {
   "cell_type": "code",
   "execution_count": 3,
   "metadata": {},
   "outputs": [],
   "source": [
    "import pandas as pd"
   ]
  },
  {
   "cell_type": "code",
   "execution_count": 8,
   "metadata": {},
   "outputs": [
    {
     "data": {
      "text/html": [
       "<div>\n",
       "<style scoped>\n",
       "    .dataframe tbody tr th:only-of-type {\n",
       "        vertical-align: middle;\n",
       "    }\n",
       "\n",
       "    .dataframe tbody tr th {\n",
       "        vertical-align: top;\n",
       "    }\n",
       "\n",
       "    .dataframe thead th {\n",
       "        text-align: right;\n",
       "    }\n",
       "</style>\n",
       "<table border=\"1\" class=\"dataframe\">\n",
       "  <thead>\n",
       "    <tr style=\"text-align: right;\">\n",
       "      <th></th>\n",
       "      <th>Player</th>\n",
       "      <th>Age</th>\n",
       "      <th>Team</th>\n",
       "      <th>Pos</th>\n",
       "      <th>G</th>\n",
       "      <th>GS</th>\n",
       "      <th>Tgt</th>\n",
       "      <th>Rec</th>\n",
       "      <th>Yds</th>\n",
       "      <th>Y/R</th>\n",
       "      <th>TD</th>\n",
       "      <th>1D</th>\n",
       "      <th>Succ%</th>\n",
       "      <th>Lng</th>\n",
       "      <th>R/G</th>\n",
       "      <th>Y/G</th>\n",
       "      <th>Ctch%</th>\n",
       "      <th>Y/Tgt</th>\n",
       "      <th>Fmb</th>\n",
       "      <th>Awards</th>\n",
       "    </tr>\n",
       "  </thead>\n",
       "  <tbody>\n",
       "    <tr>\n",
       "      <th>0</th>\n",
       "      <td>Ja'Marr Chase</td>\n",
       "      <td>24</td>\n",
       "      <td>CIN</td>\n",
       "      <td>WR</td>\n",
       "      <td>17</td>\n",
       "      <td>16</td>\n",
       "      <td>175</td>\n",
       "      <td>127</td>\n",
       "      <td>1708</td>\n",
       "      <td>13.4</td>\n",
       "      <td>17</td>\n",
       "      <td>75</td>\n",
       "      <td>62.3</td>\n",
       "      <td>70</td>\n",
       "      <td>7.5</td>\n",
       "      <td>100.5</td>\n",
       "      <td>72.6</td>\n",
       "      <td>9.8</td>\n",
       "      <td>0</td>\n",
       "      <td>PBAP-1AP MVP-8AP OPoY-3</td>\n",
       "    </tr>\n",
       "    <tr>\n",
       "      <th>1</th>\n",
       "      <td>Justin Jefferson</td>\n",
       "      <td>25</td>\n",
       "      <td>MIN</td>\n",
       "      <td>WR</td>\n",
       "      <td>17</td>\n",
       "      <td>17</td>\n",
       "      <td>154</td>\n",
       "      <td>103</td>\n",
       "      <td>1533</td>\n",
       "      <td>14.9</td>\n",
       "      <td>10</td>\n",
       "      <td>62</td>\n",
       "      <td>57.1</td>\n",
       "      <td>97</td>\n",
       "      <td>6.1</td>\n",
       "      <td>90.2</td>\n",
       "      <td>66.9</td>\n",
       "      <td>10.0</td>\n",
       "      <td>1</td>\n",
       "      <td>PBAP-1AP OPoY-7</td>\n",
       "    </tr>\n",
       "    <tr>\n",
       "      <th>2</th>\n",
       "      <td>Brian Thomas</td>\n",
       "      <td>22</td>\n",
       "      <td>JAX</td>\n",
       "      <td>WR</td>\n",
       "      <td>17</td>\n",
       "      <td>16</td>\n",
       "      <td>133</td>\n",
       "      <td>87</td>\n",
       "      <td>1282</td>\n",
       "      <td>14.7</td>\n",
       "      <td>10</td>\n",
       "      <td>53</td>\n",
       "      <td>55.6</td>\n",
       "      <td>85</td>\n",
       "      <td>5.1</td>\n",
       "      <td>75.4</td>\n",
       "      <td>65.4</td>\n",
       "      <td>9.6</td>\n",
       "      <td>0</td>\n",
       "      <td>PBAP ORoY-4</td>\n",
       "    </tr>\n",
       "    <tr>\n",
       "      <th>3</th>\n",
       "      <td>Drake London</td>\n",
       "      <td>23</td>\n",
       "      <td>ATL</td>\n",
       "      <td>WR</td>\n",
       "      <td>17</td>\n",
       "      <td>17</td>\n",
       "      <td>158</td>\n",
       "      <td>100</td>\n",
       "      <td>1271</td>\n",
       "      <td>12.7</td>\n",
       "      <td>9</td>\n",
       "      <td>67</td>\n",
       "      <td>56.3</td>\n",
       "      <td>39</td>\n",
       "      <td>5.9</td>\n",
       "      <td>74.8</td>\n",
       "      <td>63.3</td>\n",
       "      <td>8.0</td>\n",
       "      <td>0</td>\n",
       "      <td>NaN</td>\n",
       "    </tr>\n",
       "    <tr>\n",
       "      <th>4</th>\n",
       "      <td>Amon-Ra St. Brown</td>\n",
       "      <td>25</td>\n",
       "      <td>DET</td>\n",
       "      <td>WR</td>\n",
       "      <td>17</td>\n",
       "      <td>17</td>\n",
       "      <td>141</td>\n",
       "      <td>115</td>\n",
       "      <td>1263</td>\n",
       "      <td>11.0</td>\n",
       "      <td>12</td>\n",
       "      <td>73</td>\n",
       "      <td>70.2</td>\n",
       "      <td>66</td>\n",
       "      <td>6.8</td>\n",
       "      <td>74.3</td>\n",
       "      <td>81.6</td>\n",
       "      <td>9.0</td>\n",
       "      <td>1</td>\n",
       "      <td>PBAP-1AP OPoY-11</td>\n",
       "    </tr>\n",
       "  </tbody>\n",
       "</table>\n",
       "</div>"
      ],
      "text/plain": [
       "              Player  Age Team Pos   G  GS  Tgt  Rec   Yds   Y/R  TD  1D  \\\n",
       "0      Ja'Marr Chase   24  CIN  WR  17  16  175  127  1708  13.4  17  75   \n",
       "1   Justin Jefferson   25  MIN  WR  17  17  154  103  1533  14.9  10  62   \n",
       "2       Brian Thomas   22  JAX  WR  17  16  133   87  1282  14.7  10  53   \n",
       "3       Drake London   23  ATL  WR  17  17  158  100  1271  12.7   9  67   \n",
       "4  Amon-Ra St. Brown   25  DET  WR  17  17  141  115  1263  11.0  12  73   \n",
       "\n",
       "   Succ%  Lng  R/G    Y/G  Ctch%  Y/Tgt  Fmb                   Awards  \n",
       "0   62.3   70  7.5  100.5   72.6    9.8    0  PBAP-1AP MVP-8AP OPoY-3  \n",
       "1   57.1   97  6.1   90.2   66.9   10.0    1          PBAP-1AP OPoY-7  \n",
       "2   55.6   85  5.1   75.4   65.4    9.6    0              PBAP ORoY-4  \n",
       "3   56.3   39  5.9   74.8   63.3    8.0    0                      NaN  \n",
       "4   70.2   66  6.8   74.3   81.6    9.0    1         PBAP-1AP OPoY-11  "
      ]
     },
     "execution_count": 8,
     "metadata": {},
     "output_type": "execute_result"
    }
   ],
   "source": [
    "df = pd.read_csv(\"./wideout_stats.csv\")\n",
    "df.head()"
   ]
  },
  {
   "cell_type": "code",
   "execution_count": 9,
   "metadata": {},
   "outputs": [],
   "source": [
    "# Group players together over past 3 seasons\n",
    "columns = [\n",
    "    \"G\",\n",
    "    \"GS\",\n",
    "    \"Tgt\",\n",
    "    \"Rec\",\n",
    "    \"Yds\",\n",
    "    \"Y/R\",\n",
    "    \"TD\",\n",
    "    \"1D\",\n",
    "    \"Succ%\",\n",
    "    \"Lng\",\n",
    "    \"R/G\",\n",
    "    \"Y/G\",\n",
    "    \"Ctch%\",\n",
    "    \"Y/Tgt\",\n",
    "    \"Fmb\",\n",
    "]\n",
    "\n",
    "player_avg = df.groupby([\"Player\"])[columns].mean().round(2)"
   ]
  },
  {
   "cell_type": "code",
   "execution_count": 10,
   "metadata": {},
   "outputs": [],
   "source": [
    "# Export Data\n",
    "# player_avg.to_csv('widout_3yr_avg.csv')"
   ]
  },
  {
   "cell_type": "code",
   "execution_count": 11,
   "metadata": {},
   "outputs": [
    {
     "data": {
      "text/plain": [
       "Player\n",
       "A.J. Brown        27\n",
       "Adam Thielen      34\n",
       "Alec Pierce       24\n",
       "Allen Lazard      29\n",
       "Alvin Kamara      29\n",
       "                  ..\n",
       "Xavier Legette    23\n",
       "Xavier Worthy     21\n",
       "Zach Ertz         34\n",
       "Zay Flowers       24\n",
       "Zay Jones         27\n",
       "Name: Age, Length: 176, dtype: int64"
      ]
     },
     "execution_count": 11,
     "metadata": {},
     "output_type": "execute_result"
    }
   ],
   "source": [
    "Player_Age = df.groupby('Player')['Age'].max()\n",
    "Player_Age"
   ]
  },
  {
   "cell_type": "code",
   "execution_count": 18,
   "metadata": {},
   "outputs": [],
   "source": [
    "player_avg = pd.read_csv(\"./wideout_3yr_avg.csv\")"
   ]
  },
  {
   "cell_type": "code",
   "execution_count": null,
   "metadata": {},
   "outputs": [
    {
     "ename": "KeyError",
     "evalue": "\"None of [Index(['Player', 'Age'], dtype='object', name='Player')] are in the [index]\"",
     "output_type": "error",
     "traceback": [
      "\u001b[0;31m---------------------------------------------------------------------------\u001b[0m",
      "\u001b[0;31mKeyError\u001b[0m                                  Traceback (most recent call last)",
      "Cell \u001b[0;32mIn[17], line 1\u001b[0m\n\u001b[0;32m----> 1\u001b[0m p_avg \u001b[38;5;241m=\u001b[39m p_avg\u001b[38;5;241m.\u001b[39mmerge(\u001b[43mPlayer_Age\u001b[49m\u001b[43m[\u001b[49m\u001b[43m[\u001b[49m\u001b[38;5;124;43m\"\u001b[39;49m\u001b[38;5;124;43mPlayer\u001b[39;49m\u001b[38;5;124;43m\"\u001b[39;49m\u001b[43m,\u001b[49m\u001b[43m \u001b[49m\u001b[38;5;124;43m\"\u001b[39;49m\u001b[38;5;124;43mAge\u001b[39;49m\u001b[38;5;124;43m\"\u001b[39;49m\u001b[43m]\u001b[49m\u001b[43m]\u001b[49m, on\u001b[38;5;241m=\u001b[39m\u001b[38;5;124m\"\u001b[39m\u001b[38;5;124mPlayer\u001b[39m\u001b[38;5;124m\"\u001b[39m, how\u001b[38;5;241m=\u001b[39m\u001b[38;5;124m\"\u001b[39m\u001b[38;5;124mleft\u001b[39m\u001b[38;5;124m\"\u001b[39m)\n",
      "File \u001b[0;32m~/miniconda3/envs/ml_env/lib/python3.9/site-packages/pandas/core/series.py:1153\u001b[0m, in \u001b[0;36mSeries.__getitem__\u001b[0;34m(self, key)\u001b[0m\n\u001b[1;32m   1150\u001b[0m     key \u001b[38;5;241m=\u001b[39m np\u001b[38;5;241m.\u001b[39masarray(key, dtype\u001b[38;5;241m=\u001b[39m\u001b[38;5;28mbool\u001b[39m)\n\u001b[1;32m   1151\u001b[0m     \u001b[38;5;28;01mreturn\u001b[39;00m \u001b[38;5;28mself\u001b[39m\u001b[38;5;241m.\u001b[39m_get_rows_with_mask(key)\n\u001b[0;32m-> 1153\u001b[0m \u001b[38;5;28;01mreturn\u001b[39;00m \u001b[38;5;28;43mself\u001b[39;49m\u001b[38;5;241;43m.\u001b[39;49m\u001b[43m_get_with\u001b[49m\u001b[43m(\u001b[49m\u001b[43mkey\u001b[49m\u001b[43m)\u001b[49m\n",
      "File \u001b[0;32m~/miniconda3/envs/ml_env/lib/python3.9/site-packages/pandas/core/series.py:1194\u001b[0m, in \u001b[0;36mSeries._get_with\u001b[0;34m(self, key)\u001b[0m\n\u001b[1;32m   1191\u001b[0m         \u001b[38;5;28;01mreturn\u001b[39;00m \u001b[38;5;28mself\u001b[39m\u001b[38;5;241m.\u001b[39miloc[key]\n\u001b[1;32m   1193\u001b[0m \u001b[38;5;66;03m# handle the dup indexing case GH#4246\u001b[39;00m\n\u001b[0;32m-> 1194\u001b[0m \u001b[38;5;28;01mreturn\u001b[39;00m \u001b[38;5;28;43mself\u001b[39;49m\u001b[38;5;241;43m.\u001b[39;49m\u001b[43mloc\u001b[49m\u001b[43m[\u001b[49m\u001b[43mkey\u001b[49m\u001b[43m]\u001b[49m\n",
      "File \u001b[0;32m~/miniconda3/envs/ml_env/lib/python3.9/site-packages/pandas/core/indexing.py:1191\u001b[0m, in \u001b[0;36m_LocationIndexer.__getitem__\u001b[0;34m(self, key)\u001b[0m\n\u001b[1;32m   1189\u001b[0m maybe_callable \u001b[38;5;241m=\u001b[39m com\u001b[38;5;241m.\u001b[39mapply_if_callable(key, \u001b[38;5;28mself\u001b[39m\u001b[38;5;241m.\u001b[39mobj)\n\u001b[1;32m   1190\u001b[0m maybe_callable \u001b[38;5;241m=\u001b[39m \u001b[38;5;28mself\u001b[39m\u001b[38;5;241m.\u001b[39m_check_deprecated_callable_usage(key, maybe_callable)\n\u001b[0;32m-> 1191\u001b[0m \u001b[38;5;28;01mreturn\u001b[39;00m \u001b[38;5;28;43mself\u001b[39;49m\u001b[38;5;241;43m.\u001b[39;49m\u001b[43m_getitem_axis\u001b[49m\u001b[43m(\u001b[49m\u001b[43mmaybe_callable\u001b[49m\u001b[43m,\u001b[49m\u001b[43m \u001b[49m\u001b[43maxis\u001b[49m\u001b[38;5;241;43m=\u001b[39;49m\u001b[43maxis\u001b[49m\u001b[43m)\u001b[49m\n",
      "File \u001b[0;32m~/miniconda3/envs/ml_env/lib/python3.9/site-packages/pandas/core/indexing.py:1420\u001b[0m, in \u001b[0;36m_LocIndexer._getitem_axis\u001b[0;34m(self, key, axis)\u001b[0m\n\u001b[1;32m   1417\u001b[0m     \u001b[38;5;28;01mif\u001b[39;00m \u001b[38;5;28mhasattr\u001b[39m(key, \u001b[38;5;124m\"\u001b[39m\u001b[38;5;124mndim\u001b[39m\u001b[38;5;124m\"\u001b[39m) \u001b[38;5;129;01mand\u001b[39;00m key\u001b[38;5;241m.\u001b[39mndim \u001b[38;5;241m>\u001b[39m \u001b[38;5;241m1\u001b[39m:\n\u001b[1;32m   1418\u001b[0m         \u001b[38;5;28;01mraise\u001b[39;00m \u001b[38;5;167;01mValueError\u001b[39;00m(\u001b[38;5;124m\"\u001b[39m\u001b[38;5;124mCannot index with multidimensional key\u001b[39m\u001b[38;5;124m\"\u001b[39m)\n\u001b[0;32m-> 1420\u001b[0m     \u001b[38;5;28;01mreturn\u001b[39;00m \u001b[38;5;28;43mself\u001b[39;49m\u001b[38;5;241;43m.\u001b[39;49m\u001b[43m_getitem_iterable\u001b[49m\u001b[43m(\u001b[49m\u001b[43mkey\u001b[49m\u001b[43m,\u001b[49m\u001b[43m \u001b[49m\u001b[43maxis\u001b[49m\u001b[38;5;241;43m=\u001b[39;49m\u001b[43maxis\u001b[49m\u001b[43m)\u001b[49m\n\u001b[1;32m   1422\u001b[0m \u001b[38;5;66;03m# nested tuple slicing\u001b[39;00m\n\u001b[1;32m   1423\u001b[0m \u001b[38;5;28;01mif\u001b[39;00m is_nested_tuple(key, labels):\n",
      "File \u001b[0;32m~/miniconda3/envs/ml_env/lib/python3.9/site-packages/pandas/core/indexing.py:1360\u001b[0m, in \u001b[0;36m_LocIndexer._getitem_iterable\u001b[0;34m(self, key, axis)\u001b[0m\n\u001b[1;32m   1357\u001b[0m \u001b[38;5;28mself\u001b[39m\u001b[38;5;241m.\u001b[39m_validate_key(key, axis)\n\u001b[1;32m   1359\u001b[0m \u001b[38;5;66;03m# A collection of keys\u001b[39;00m\n\u001b[0;32m-> 1360\u001b[0m keyarr, indexer \u001b[38;5;241m=\u001b[39m \u001b[38;5;28;43mself\u001b[39;49m\u001b[38;5;241;43m.\u001b[39;49m\u001b[43m_get_listlike_indexer\u001b[49m\u001b[43m(\u001b[49m\u001b[43mkey\u001b[49m\u001b[43m,\u001b[49m\u001b[43m \u001b[49m\u001b[43maxis\u001b[49m\u001b[43m)\u001b[49m\n\u001b[1;32m   1361\u001b[0m \u001b[38;5;28;01mreturn\u001b[39;00m \u001b[38;5;28mself\u001b[39m\u001b[38;5;241m.\u001b[39mobj\u001b[38;5;241m.\u001b[39m_reindex_with_indexers(\n\u001b[1;32m   1362\u001b[0m     {axis: [keyarr, indexer]}, copy\u001b[38;5;241m=\u001b[39m\u001b[38;5;28;01mTrue\u001b[39;00m, allow_dups\u001b[38;5;241m=\u001b[39m\u001b[38;5;28;01mTrue\u001b[39;00m\n\u001b[1;32m   1363\u001b[0m )\n",
      "File \u001b[0;32m~/miniconda3/envs/ml_env/lib/python3.9/site-packages/pandas/core/indexing.py:1558\u001b[0m, in \u001b[0;36m_LocIndexer._get_listlike_indexer\u001b[0;34m(self, key, axis)\u001b[0m\n\u001b[1;32m   1555\u001b[0m ax \u001b[38;5;241m=\u001b[39m \u001b[38;5;28mself\u001b[39m\u001b[38;5;241m.\u001b[39mobj\u001b[38;5;241m.\u001b[39m_get_axis(axis)\n\u001b[1;32m   1556\u001b[0m axis_name \u001b[38;5;241m=\u001b[39m \u001b[38;5;28mself\u001b[39m\u001b[38;5;241m.\u001b[39mobj\u001b[38;5;241m.\u001b[39m_get_axis_name(axis)\n\u001b[0;32m-> 1558\u001b[0m keyarr, indexer \u001b[38;5;241m=\u001b[39m \u001b[43max\u001b[49m\u001b[38;5;241;43m.\u001b[39;49m\u001b[43m_get_indexer_strict\u001b[49m\u001b[43m(\u001b[49m\u001b[43mkey\u001b[49m\u001b[43m,\u001b[49m\u001b[43m \u001b[49m\u001b[43maxis_name\u001b[49m\u001b[43m)\u001b[49m\n\u001b[1;32m   1560\u001b[0m \u001b[38;5;28;01mreturn\u001b[39;00m keyarr, indexer\n",
      "File \u001b[0;32m~/miniconda3/envs/ml_env/lib/python3.9/site-packages/pandas/core/indexes/base.py:6200\u001b[0m, in \u001b[0;36mIndex._get_indexer_strict\u001b[0;34m(self, key, axis_name)\u001b[0m\n\u001b[1;32m   6197\u001b[0m \u001b[38;5;28;01melse\u001b[39;00m:\n\u001b[1;32m   6198\u001b[0m     keyarr, indexer, new_indexer \u001b[38;5;241m=\u001b[39m \u001b[38;5;28mself\u001b[39m\u001b[38;5;241m.\u001b[39m_reindex_non_unique(keyarr)\n\u001b[0;32m-> 6200\u001b[0m \u001b[38;5;28;43mself\u001b[39;49m\u001b[38;5;241;43m.\u001b[39;49m\u001b[43m_raise_if_missing\u001b[49m\u001b[43m(\u001b[49m\u001b[43mkeyarr\u001b[49m\u001b[43m,\u001b[49m\u001b[43m \u001b[49m\u001b[43mindexer\u001b[49m\u001b[43m,\u001b[49m\u001b[43m \u001b[49m\u001b[43maxis_name\u001b[49m\u001b[43m)\u001b[49m\n\u001b[1;32m   6202\u001b[0m keyarr \u001b[38;5;241m=\u001b[39m \u001b[38;5;28mself\u001b[39m\u001b[38;5;241m.\u001b[39mtake(indexer)\n\u001b[1;32m   6203\u001b[0m \u001b[38;5;28;01mif\u001b[39;00m \u001b[38;5;28misinstance\u001b[39m(key, Index):\n\u001b[1;32m   6204\u001b[0m     \u001b[38;5;66;03m# GH 42790 - Preserve name from an Index\u001b[39;00m\n",
      "File \u001b[0;32m~/miniconda3/envs/ml_env/lib/python3.9/site-packages/pandas/core/indexes/base.py:6249\u001b[0m, in \u001b[0;36mIndex._raise_if_missing\u001b[0;34m(self, key, indexer, axis_name)\u001b[0m\n\u001b[1;32m   6247\u001b[0m \u001b[38;5;28;01mif\u001b[39;00m nmissing:\n\u001b[1;32m   6248\u001b[0m     \u001b[38;5;28;01mif\u001b[39;00m nmissing \u001b[38;5;241m==\u001b[39m \u001b[38;5;28mlen\u001b[39m(indexer):\n\u001b[0;32m-> 6249\u001b[0m         \u001b[38;5;28;01mraise\u001b[39;00m \u001b[38;5;167;01mKeyError\u001b[39;00m(\u001b[38;5;124mf\u001b[39m\u001b[38;5;124m\"\u001b[39m\u001b[38;5;124mNone of [\u001b[39m\u001b[38;5;132;01m{\u001b[39;00mkey\u001b[38;5;132;01m}\u001b[39;00m\u001b[38;5;124m] are in the [\u001b[39m\u001b[38;5;132;01m{\u001b[39;00maxis_name\u001b[38;5;132;01m}\u001b[39;00m\u001b[38;5;124m]\u001b[39m\u001b[38;5;124m\"\u001b[39m)\n\u001b[1;32m   6251\u001b[0m     not_found \u001b[38;5;241m=\u001b[39m \u001b[38;5;28mlist\u001b[39m(ensure_index(key)[missing_mask\u001b[38;5;241m.\u001b[39mnonzero()[\u001b[38;5;241m0\u001b[39m]]\u001b[38;5;241m.\u001b[39munique())\n\u001b[1;32m   6252\u001b[0m     \u001b[38;5;28;01mraise\u001b[39;00m \u001b[38;5;167;01mKeyError\u001b[39;00m(\u001b[38;5;124mf\u001b[39m\u001b[38;5;124m\"\u001b[39m\u001b[38;5;132;01m{\u001b[39;00mnot_found\u001b[38;5;132;01m}\u001b[39;00m\u001b[38;5;124m not in index\u001b[39m\u001b[38;5;124m\"\u001b[39m)\n",
      "\u001b[0;31mKeyError\u001b[0m: \"None of [Index(['Player', 'Age'], dtype='object', name='Player')] are in the [index]\""
     ]
    }
   ],
   "source": [
    "player_avg = player_avg.merge(Player_Age[[\"Player\", \"Age\"]], on=\"Player\", how=\"left\")"
   ]
  },
  {
   "cell_type": "code",
   "execution_count": 19,
   "metadata": {},
   "outputs": [
    {
     "name": "stdout",
     "output_type": "stream",
     "text": [
      "              Player  Avg_Sal      G     GS     Tgt     Rec      Yds    Y/R  \\\n",
      "0         A.J. Brown     32.0  15.67  15.33  133.33   87.00  1343.67  15.60   \n",
      "1       Adam Thielen      8.0  14.67  14.67  102.00   73.67   781.67  10.93   \n",
      "2       Allen Lazard     11.0  13.50  12.50   80.00   48.50   659.00  13.70   \n",
      "3       Amari Cooper     20.0  15.33  14.00  115.00   64.67   985.67  14.90   \n",
      "4  Amon-Ra St. Brown     30.0  16.33  16.33  150.33  113.33  1313.00  11.57   \n",
      "\n",
      "     TD     1D  Succ%    Lng   R/G    Y/G  Ctch%  Y/Tgt   Fmb  Age  \n",
      "0  8.33  60.00  56.97  68.00  5.53  85.53  65.63  10.20  1.33   27  \n",
      "1  5.00  43.00  55.33  36.00  5.00  54.40  72.67   8.00  0.67   34  \n",
      "2  6.00  37.00  56.65  49.50  3.55  48.35  60.85   8.35  0.00   29  \n",
      "3  6.00  45.33  49.50  53.33  4.17  63.53  55.73   8.33  0.67   30  \n",
      "4  9.33  72.00  64.70  61.67  6.93  80.53  75.60   8.73  0.67   25  \n"
     ]
    }
   ],
   "source": [
    "import pandas as pd\n",
    "\n",
    "# Convert Player_Age to DataFrame if needed\n",
    "if isinstance(Player_Age, pd.Series):\n",
    "    Player_Age = Player_Age.reset_index().rename(columns={'index': 'Player', 0: 'Age'})\n",
    "elif 'Player' not in Player_Age.columns:\n",
    "    Player_Age = Player_Age.reset_index().rename(columns={'index': 'Player'})\n",
    "\n",
    "# Merge and update Age\n",
    "player_avg = player_avg.merge(Player_Age[['Player', 'Age']], on='Player', how='left', suffixes=('_old', '_new'))\n",
    "player_avg['Age'] = player_avg['Age_new'].fillna(player_avg['Age_old'])\n",
    "player_avg = player_avg.drop(columns=['Age_old', 'Age_new'])\n",
    "\n",
    "print(player_avg.head())"
   ]
  },
  {
   "cell_type": "code",
   "execution_count": 21,
   "metadata": {},
   "outputs": [],
   "source": [
    "player_avg.to_csv('./data/wideout_3yr_avg.csv')"
   ]
  },
  {
   "cell_type": "code",
   "execution_count": null,
   "metadata": {},
   "outputs": [],
   "source": []
  }
 ],
 "metadata": {
  "kernelspec": {
   "display_name": "ml_env",
   "language": "python",
   "name": "python3"
  },
  "language_info": {
   "codemirror_mode": {
    "name": "ipython",
    "version": 3
   },
   "file_extension": ".py",
   "mimetype": "text/x-python",
   "name": "python",
   "nbconvert_exporter": "python",
   "pygments_lexer": "ipython3",
   "version": "3.9.21"
  }
 },
 "nbformat": 4,
 "nbformat_minor": 2
}
